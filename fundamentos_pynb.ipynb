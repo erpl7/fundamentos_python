{
  "nbformat": 4,
  "nbformat_minor": 0,
  "metadata": {
    "colab": {
      "provenance": [],
      "authorship_tag": "ABX9TyOf0oVvT3X4kfEouL7NFlUm",
      "include_colab_link": true
    },
    "kernelspec": {
      "name": "python3",
      "display_name": "Python 3"
    },
    "language_info": {
      "name": "python"
    }
  },
  "cells": [
    {
      "cell_type": "markdown",
      "metadata": {
        "id": "view-in-github",
        "colab_type": "text"
      },
      "source": [
        "<a href=\"https://colab.research.google.com/github/erpl7/fundamentos_python/blob/main/fundamentos_pynb.ipynb\" target=\"_parent\"><img src=\"https://colab.research.google.com/assets/colab-badge.svg\" alt=\"Open In Colab\"/></a>"
      ]
    },
    {
      "cell_type": "markdown",
      "source": [
        "1 - Realize o print do seu nome completo, sua idade e sua altura utilizando um print para cada valor.\n"
      ],
      "metadata": {
        "id": "rABlllEK4SKC"
      }
    },
    {
      "cell_type": "code",
      "execution_count": null,
      "metadata": {
        "colab": {
          "base_uri": "https://localhost:8080/"
        },
        "id": "7oA3oXWZUTLU",
        "outputId": "67fdfa9d-e87d-43b2-aead-5d557f0fbbcf"
      },
      "outputs": [
        {
          "output_type": "stream",
          "name": "stdout",
          "text": [
            "Connor\n",
            "Tenho 21 anos\n",
            "Minha altura é 1.82 m\n"
          ]
        }
      ],
      "source": [
        "print(\"Connor\")\n",
        "print(\"Tenho %s anos\" % (21))\n",
        "print(\"Minha altura é %s m\" % (1.82))"
      ]
    },
    {
      "cell_type": "markdown",
      "source": [
        "2 - Realize o print do seu nome completo, sua idade e sua altura utilizando apenas um print para todos valores."
      ],
      "metadata": {
        "id": "io3DrFmE4by-"
      }
    },
    {
      "cell_type": "code",
      "source": [
        "print(\"Lorenzo Connor\", 21, 1.82)"
      ],
      "metadata": {
        "colab": {
          "base_uri": "https://localhost:8080/"
        },
        "id": "PqxzyFtlU-kp",
        "outputId": "3c74acb2-6983-4afc-ee3f-f4e657f5a2e7"
      },
      "execution_count": null,
      "outputs": [
        {
          "output_type": "stream",
          "name": "stdout",
          "text": [
            "Lorenzo Connor 21 1.82\n"
          ]
        }
      ]
    },
    {
      "cell_type": "markdown",
      "source": [
        "3 - Realize o print de 3 números de sua escolha em um mesmo print, mas separados pelo caractere '-'."
      ],
      "metadata": {
        "id": "bb-A_Gs06Cjr"
      }
    },
    {
      "cell_type": "code",
      "source": [
        "print(21, 25, 35, sep = \"-\")"
      ],
      "metadata": {
        "colab": {
          "base_uri": "https://localhost:8080/"
        },
        "id": "JDVQWNQVVuTP",
        "outputId": "379b8548-26e1-4ece-a3ac-04adcb5ee6c4"
      },
      "execution_count": null,
      "outputs": [
        {
          "output_type": "stream",
          "name": "stdout",
          "text": [
            "21-25-35\n"
          ]
        }
      ]
    },
    {
      "cell_type": "markdown",
      "source": [
        "1 - Crie uma variável de cada tipo e ponha alguma valor escolhido. Em seguida, printe todos esses valores."
      ],
      "metadata": {
        "id": "0AvphFwX44-o"
      }
    },
    {
      "cell_type": "code",
      "source": [
        "inteiro = 7\n",
        "decimal = 7.5\n",
        "texto = \"lorenzo\"\n",
        "booleano = False\n",
        "\n",
        "print(inteiro, decimal, texto, booleano)"
      ],
      "metadata": {
        "colab": {
          "base_uri": "https://localhost:8080/"
        },
        "id": "7pORIljbZx_1",
        "outputId": "6609b6e8-1956-450c-c9dd-9764019f4483"
      },
      "execution_count": null,
      "outputs": [
        {
          "output_type": "stream",
          "name": "stdout",
          "text": [
            "7 7.5 lorenzo False\n"
          ]
        }
      ]
    },
    {
      "cell_type": "markdown",
      "source": [
        "2 - Cria variáveis para guardar seu nome, CPF e uma que indique se você esta casado, em seguida printe esses valores separadamente, mas não esqueça de printar junto o que eles significam."
      ],
      "metadata": {
        "id": "8EJNTdGR5b-2"
      }
    },
    {
      "cell_type": "code",
      "source": [
        "nome = \"lorenzo\"\n",
        "cpf = 8950\n",
        "casado = False\n",
        "\n",
        "print(\"Nome: \", nome)\n",
        "print(\"cpf: \", cpf)\n",
        "print(\"Casado? \", casado)"
      ],
      "metadata": {
        "colab": {
          "base_uri": "https://localhost:8080/"
        },
        "id": "SlPm1DSrauPw",
        "outputId": "d55117da-494b-49ef-c20b-82712c3004ae"
      },
      "execution_count": null,
      "outputs": [
        {
          "output_type": "stream",
          "name": "stdout",
          "text": [
            "Nome:  lorenzo\n",
            "cpf:  8950\n",
            "Casado?  False\n"
          ]
        }
      ]
    },
    {
      "cell_type": "markdown",
      "source": [
        "1 - Escreva e formate a data em que você nasceu no formato dia/mês/ano. Não esqueça de criar 3 variáveis para guardar o dia, mês e ano."
      ],
      "metadata": {
        "id": "Keafykmn5jAz"
      }
    },
    {
      "cell_type": "code",
      "source": [
        "dia = 21\n",
        "mes = 3\n",
        "ano = 2000\n",
        "\n",
        "print(\"Lorenzo nasceu em %d/%d/%d\" % (dia, mes, ano))"
      ],
      "metadata": {
        "colab": {
          "base_uri": "https://localhost:8080/"
        },
        "id": "tm_L_nEvf9B5",
        "outputId": "cbbaa4be-bfe0-4e44-8879-b42b1b88b73a"
      },
      "execution_count": null,
      "outputs": [
        {
          "output_type": "stream",
          "name": "stdout",
          "text": [
            "Lorenzo nasceu em 21/3/2000\n"
          ]
        }
      ]
    },
    {
      "cell_type": "markdown",
      "source": [
        "2 - Escreva e formate a hora e minuto atual. Não esqueça de criar duas variáveis para guardar a hora e minuto."
      ],
      "metadata": {
        "id": "b__rXErd5odv"
      }
    },
    {
      "cell_type": "code",
      "source": [
        "hora = 17\n",
        "minuto = 53\n",
        "\n",
        "print(\"A hora atual é %d e o minuto %d\" % (hora, minuto))"
      ],
      "metadata": {
        "colab": {
          "base_uri": "https://localhost:8080/"
        },
        "id": "JL265KQAgz3k",
        "outputId": "03ca5b53-bd9f-45fd-fd58-6fd307eb3439"
      },
      "execution_count": null,
      "outputs": [
        {
          "output_type": "stream",
          "name": "stdout",
          "text": [
            "A hora atual é 17 e o minuto 53\n"
          ]
        }
      ]
    },
    {
      "cell_type": "markdown",
      "source": [
        "3 - Escreva um programa que contêm o número PI, que deve ter o valor exato de 3.14159265359. Agora formate esse número para ter apenas cinco casas decimais.\n",
        "Exemplo de saída: O PI é 3.14159"
      ],
      "metadata": {
        "id": "Tf02De4P5tdS"
      }
    },
    {
      "cell_type": "code",
      "source": [
        "pi = 3.1415161718\n",
        "\n",
        "print(\"O número pi com 5 casas decimais é: %.5f\" % (pi))"
      ],
      "metadata": {
        "colab": {
          "base_uri": "https://localhost:8080/"
        },
        "id": "IRNmoGakhpzG",
        "outputId": "b92387f4-0e45-4b46-cae0-7370c7146ec4"
      },
      "execution_count": null,
      "outputs": [
        {
          "output_type": "stream",
          "name": "stdout",
          "text": [
            "O número pi com 5 casas decimais é: 3.14152\n"
          ]
        }
      ]
    }
  ]
}